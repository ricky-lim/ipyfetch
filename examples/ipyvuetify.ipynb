{
 "cells": [
  {
   "cell_type": "markdown",
   "metadata": {},
   "source": [
    "# Example how to use `ipyfetch` with `ipyvuetify`"
   ]
  },
  {
   "cell_type": "markdown",
   "metadata": {},
   "source": [
    "Install ipyvuetify\n",
    "\n",
    "```\n",
    "$ pip install ipyvuetify\n",
    "$ jupyter nbextension enable --py --sys-prefix ipyvuetify\n",
    "\n",
    "# for Jupyter Lab\n",
    "$ jupyter labextension install jupyter-vuetify\n",
    "```"
   ]
  },
  {
   "cell_type": "code",
   "execution_count": 2,
   "metadata": {},
   "outputs": [],
   "source": [
    "import ipyvuetify as v\n",
    "\n",
    "from ipyfetch import create_on_fetch"
   ]
  },
  {
   "cell_type": "code",
   "execution_count": 3,
   "metadata": {},
   "outputs": [],
   "source": [
    "class urlBtn:\n",
    "    def __init__(self):\n",
    "        # Mutable collection to store 'result' as its key.\n",
    "        self.container = {}\n",
    "        self.on_fetch = create_on_fetch(url='http://echo.jsontest.com/key/value/one/two',\n",
    "                                      container=self.container)\n",
    "    \n",
    "    def create(self):\n",
    "      \n",
    "        def show(*_):\n",
    "            # Retrieve the result from fetching URL from js\n",
    "            my_result = self.container['result']\n",
    "            btn.children = [str(my_result)]\n",
    "          \n",
    "      \n",
    "        btn = v.Btn(class_=\"mx-2\", children=['hello', self.on_fetch()])\n",
    "        btn.on_event('click', show)\n",
    "    \n",
    "        return btn"
   ]
  },
  {
   "cell_type": "code",
   "execution_count": 4,
   "metadata": {},
   "outputs": [
    {
     "data": {
      "application/vnd.jupyter.widget-view+json": {
       "model_id": "2206aa0ff00b4131ba04ebb9859db1bc",
       "version_major": 2,
       "version_minor": 0
      },
      "text/plain": [
       "Btn(children=['hello', Fetch(url='http://echo.jsontest.com/key/value/one/two')], class_='mx-2')"
      ]
     },
     "metadata": {},
     "output_type": "display_data"
    }
   ],
   "source": [
    "urlBtn().create()"
   ]
  },
  {
   "cell_type": "code",
   "execution_count": null,
   "metadata": {},
   "outputs": [],
   "source": []
  }
 ],
 "metadata": {
  "kernelspec": {
   "display_name": "ipyfetch-env",
   "language": "python",
   "name": "ipyfetch-env"
  },
  "language_info": {
   "codemirror_mode": {
    "name": "ipython",
    "version": 3
   },
   "file_extension": ".py",
   "mimetype": "text/x-python",
   "name": "python",
   "nbconvert_exporter": "python",
   "pygments_lexer": "ipython3",
   "version": "3.7.8"
  }
 },
 "nbformat": 4,
 "nbformat_minor": 4
}
