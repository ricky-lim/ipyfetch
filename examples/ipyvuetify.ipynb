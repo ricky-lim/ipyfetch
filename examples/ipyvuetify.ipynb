{
 "cells": [
  {
   "cell_type": "markdown",
   "metadata": {},
   "source": [
    "# Example how to use `ipyfetch` with `ipyvuetify`"
   ]
  },
  {
   "cell_type": "code",
   "execution_count": 1,
   "metadata": {},
   "outputs": [],
   "source": [
    "import ipyvuetify as v\n",
    "\n",
    "from ipyfetch import Fetch"
   ]
  },
  {
   "cell_type": "code",
   "execution_count": 2,
   "metadata": {},
   "outputs": [],
   "source": [
    "class urlBtn:\n",
    "    def __init__(self):\n",
    "        # Mutable collection to store 'result' as its key.\n",
    "        self.container = {}\n",
    "        self.fetcher = Fetch().create(url='http://echo.jsontest.com/key/value/one/two',\n",
    "                                      container=self.container)\n",
    "    \n",
    "    def create(self):\n",
    "      \n",
    "        def show(*_):\n",
    "            # Retrieve the result from fetching URL from js\n",
    "            my_result = self.container['result']\n",
    "            btn.children = [str(my_result)]\n",
    "          \n",
    "      \n",
    "        btn = v.Btn(class_=\"mx-2\", children=['hello', self.fetcher])\n",
    "        btn.on_event('click', show)\n",
    "    \n",
    "        return btn"
   ]
  },
  {
   "cell_type": "code",
   "execution_count": 3,
   "metadata": {},
   "outputs": [
    {
     "data": {
      "application/vnd.jupyter.widget-view+json": {
       "model_id": "455c16af2b51418bb94b953e70a4b748",
       "version_major": 2,
       "version_minor": 0
      },
      "text/plain": [
       "Btn(children=['hello', Fetch(url='http://echo.jsontest.com/key/value/one/two')], class_='mx-2')"
      ]
     },
     "metadata": {},
     "output_type": "display_data"
    }
   ],
   "source": [
    "urlBtn().create()"
   ]
  }
 ],
 "metadata": {
  "kernelspec": {
   "display_name": "ipyfetch-env",
   "language": "python",
   "name": "ipyfetch-env"
  },
  "language_info": {
   "codemirror_mode": {
    "name": "ipython",
    "version": 3
   },
   "file_extension": ".py",
   "mimetype": "text/x-python",
   "name": "python",
   "nbconvert_exporter": "python",
   "pygments_lexer": "ipython3",
   "version": "3.7.8"
  }
 },
 "nbformat": 4,
 "nbformat_minor": 4
}
