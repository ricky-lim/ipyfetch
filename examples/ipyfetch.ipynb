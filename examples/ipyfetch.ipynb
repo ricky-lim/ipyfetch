{
 "cells": [
  {
   "cell_type": "markdown",
   "metadata": {},
   "source": [
    "# Example how to fetch URL from front-end"
   ]
  },
  {
   "cell_type": "code",
   "execution_count": 1,
   "metadata": {},
   "outputs": [],
   "source": [
    "import ipywidgets as widgets\n",
    "\n",
    "\n",
    "from ipyfetch import Fetch, create_on_fetch\n"
   ]
  },
  {
   "cell_type": "code",
   "execution_count": 2,
   "metadata": {},
   "outputs": [
    {
     "data": {
      "application/vnd.jupyter.widget-view+json": {
       "model_id": "b9e58b05e60a4063af4bf09895b7a2d0",
       "version_major": 2,
       "version_minor": 0
      },
      "text/plain": [
       "Fetch(url='http://echo.jsontest.com/key/value/one/two')"
      ]
     },
     "metadata": {},
     "output_type": "display_data"
    },
    {
     "data": {
      "application/vnd.jupyter.widget-view+json": {
       "model_id": "d9a6bcc3621441ef8778e87e9f0b506b",
       "version_major": 2,
       "version_minor": 0
      },
      "text/plain": [
       "Output()"
      ]
     },
     "metadata": {},
     "output_type": "display_data"
    }
   ],
   "source": [
    "f = Fetch(url='http://echo.jsontest.com/key/value/one/two')\n",
    "out = widgets.Output()\n",
    "\n",
    "def on_fetch(change):\n",
    "    value = change['new']\n",
    "    # Code starts here...\n",
    "    with out:\n",
    "        print(value)\n",
    "          \n",
    "f.observe(on_fetch, \"value\")\n",
    "\n",
    "display(f, out)"
   ]
  },
  {
   "cell_type": "markdown",
   "metadata": {},
   "source": [
    "# A convenient function (`create_on_fetch`) to reduce the boilerplate for `on_fetch` "
   ]
  },
  {
   "cell_type": "code",
   "execution_count": 3,
   "metadata": {},
   "outputs": [
    {
     "data": {
      "application/vnd.jupyter.widget-view+json": {
       "model_id": "5c5af2c5a874456d8738fd58d5ad0749",
       "version_major": 2,
       "version_minor": 0
      },
      "text/plain": [
       "Fetch(url='http://echo.jsontest.com/key/value/one/two')"
      ]
     },
     "metadata": {},
     "output_type": "display_data"
    }
   ],
   "source": [
    "my_container = {}\n",
    "# Return function 'on_fetch'\n",
    "on_fetch = create_on_fetch(url='http://echo.jsontest.com/key/value/one/two',\n",
    "                           container=my_container)\n",
    "on_fetch()"
   ]
  },
  {
   "cell_type": "code",
   "execution_count": 4,
   "metadata": {},
   "outputs": [
    {
     "data": {
      "application/vnd.jupyter.widget-view+json": {
       "model_id": "b7acc030b2b4480cba9f2f542116415f",
       "version_major": 2,
       "version_minor": 0
      },
      "text/plain": [
       "Button(description='Click me', style=ButtonStyle())"
      ]
     },
     "metadata": {},
     "output_type": "display_data"
    },
    {
     "data": {
      "application/vnd.jupyter.widget-view+json": {
       "model_id": "422ebd4510ea44b9913eec581ac45e3f",
       "version_major": 2,
       "version_minor": 0
      },
      "text/plain": [
       "Output()"
      ]
     },
     "metadata": {},
     "output_type": "display_data"
    }
   ],
   "source": [
    "btn = widgets.Button(description=\"Click me\")\n",
    "btn_out = widgets.Output()\n",
    "\n",
    "def show_container(_):\n",
    "    with btn_out:\n",
    "        print(my_container)\n",
    "        \n",
    "btn.on_click(show_container)\n",
    "\n",
    "display(btn, btn_out)"
   ]
  },
  {
   "cell_type": "code",
   "execution_count": null,
   "metadata": {},
   "outputs": [],
   "source": []
  }
 ],
 "metadata": {
  "kernelspec": {
   "display_name": "ipyfetch-env",
   "language": "python",
   "name": "ipyfetch-env"
  },
  "language_info": {
   "codemirror_mode": {
    "name": "ipython",
    "version": 3
   },
   "file_extension": ".py",
   "mimetype": "text/x-python",
   "name": "python",
   "nbconvert_exporter": "python",
   "pygments_lexer": "ipython3",
   "version": "3.7.8"
  }
 },
 "nbformat": 4,
 "nbformat_minor": 4
}
