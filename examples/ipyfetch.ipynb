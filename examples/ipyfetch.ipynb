{
 "cells": [
  {
   "cell_type": "code",
   "execution_count": 1,
   "metadata": {},
   "outputs": [],
   "source": [
    "import ipywidgets as widgets\n",
    "\n",
    "\n",
    "from ipyfetch import Fetch"
   ]
  },
  {
   "cell_type": "code",
   "execution_count": 2,
   "metadata": {},
   "outputs": [
    {
     "data": {
      "application/vnd.jupyter.widget-view+json": {
       "model_id": "6ab6d423a9d64e88ac5814c08922eb19",
       "version_major": 2,
       "version_minor": 0
      },
      "text/plain": [
       "Fetch(url='http://echo.jsontest.com/key/value/one/two')"
      ]
     },
     "metadata": {},
     "output_type": "display_data"
    },
    {
     "data": {
      "application/vnd.jupyter.widget-view+json": {
       "model_id": "3853dc379785457a92538ef4ffb9618f",
       "version_major": 2,
       "version_minor": 0
      },
      "text/plain": [
       "Output()"
      ]
     },
     "metadata": {},
     "output_type": "display_data"
    }
   ],
   "source": [
    "f = Fetch(url='http://echo.jsontest.com/key/value/one/two')\n",
    "out = widgets.Output()\n",
    "\n",
    "def on_fetch(change, *args):\n",
    "    value = change['new']\n",
    "    # Code starts here...\n",
    "    with out:\n",
    "        print(value)\n",
    "          \n",
    "f.observe(on_fetch, \"value\")\n",
    "\n",
    "display(f, out)"
   ]
  },
  {
   "cell_type": "code",
   "execution_count": null,
   "metadata": {},
   "outputs": [],
   "source": []
  }
 ],
 "metadata": {
  "kernelspec": {
   "display_name": "Python (ipyfetch)",
   "language": "python",
   "name": "ipyfetch"
  },
  "language_info": {
   "codemirror_mode": {
    "name": "ipython",
    "version": 3
   },
   "file_extension": ".py",
   "mimetype": "text/x-python",
   "name": "python",
   "nbconvert_exporter": "python",
   "pygments_lexer": "ipython3",
   "version": "3.7.9"
  }
 },
 "nbformat": 4,
 "nbformat_minor": 4
}
