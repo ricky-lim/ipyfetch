{
 "cells": [
  {
   "cell_type": "code",
   "execution_count": 3,
   "metadata": {},
   "outputs": [],
   "source": [
    "import ipywidgets as widgets\n",
    "\n",
    "\n",
    "from ipyfetch import Fetch"
   ]
  },
  {
   "cell_type": "code",
   "execution_count": 4,
   "metadata": {},
   "outputs": [
    {
     "data": {
      "application/vnd.jupyter.widget-view+json": {
       "model_id": "8c4cc86f082f443a93eaca10680e64bd",
       "version_major": 2,
       "version_minor": 0
      },
      "text/plain": [
       "Fetch(url='http://echo.jsontest.com/key/value/one/two')"
      ]
     },
     "metadata": {},
     "output_type": "display_data"
    },
    {
     "data": {
      "application/vnd.jupyter.widget-view+json": {
       "model_id": "3d445caa729d46d2a9851c6b82b78c10",
       "version_major": 2,
       "version_minor": 0
      },
      "text/plain": [
       "Output()"
      ]
     },
     "metadata": {},
     "output_type": "display_data"
    }
   ],
   "source": [
    "f = Fetch(url='http://echo.jsontest.com/key/value/one/two')\n",
    "out = widgets.Output()\n",
    "\n",
    "def on_fetch(change, *args):\n",
    "    value = change['new']\n",
    "    # Code starts here...\n",
    "    with out:\n",
    "        print(value)\n",
    "          \n",
    "f.observe(on_fetch, \"value\")\n",
    "\n",
    "display(f, out)"
   ]
  },
  {
   "cell_type": "code",
   "execution_count": null,
   "metadata": {},
   "outputs": [],
   "source": []
  }
 ],
 "metadata": {
  "kernelspec": {
   "display_name": "ipyfetch-env",
   "language": "python",
   "name": "ipyfetch-env"
  },
  "language_info": {
   "codemirror_mode": {
    "name": "ipython",
    "version": 3
   },
   "file_extension": ".py",
   "mimetype": "text/x-python",
   "name": "python",
   "nbconvert_exporter": "python",
   "pygments_lexer": "ipython3",
   "version": "3.7.8"
  }
 },
 "nbformat": 4,
 "nbformat_minor": 4
}
