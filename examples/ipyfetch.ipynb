{
 "cells": [
  {
   "cell_type": "markdown",
   "metadata": {},
   "source": [
    "# Example how to fetch URL from front-end"
   ]
  },
  {
   "cell_type": "code",
   "execution_count": 1,
   "metadata": {},
   "outputs": [],
   "source": [
    "import ipywidgets as widgets\n",
    "\n",
    "\n",
    "from ipyfetch import Fetch, create_on_fetch\n"
   ]
  },
  {
   "cell_type": "code",
   "execution_count": 4,
   "metadata": {},
   "outputs": [
    {
     "data": {
      "application/vnd.jupyter.widget-view+json": {
       "model_id": "81d1c7eb6af94928be47f856ccd1a856",
       "version_major": 2,
       "version_minor": 0
      },
      "text/plain": [
       "Fetch(url='http://echo.jsontest.com/key/value/one/two')"
      ]
     },
     "metadata": {},
     "output_type": "display_data"
    },
    {
     "data": {
      "application/vnd.jupyter.widget-view+json": {
       "model_id": "1b465b0bd4f24edaa4a3bc76f75a51a2",
       "version_major": 2,
       "version_minor": 0
      },
      "text/plain": [
       "Output()"
      ]
     },
     "metadata": {},
     "output_type": "display_data"
    }
   ],
   "source": [
    "f = Fetch(url='http://echo.jsontest.com/key/value/one/two')\n",
    "out = widgets.Output()\n",
    "\n",
    "def on_fetch(change):\n",
    "    value = change['new']\n",
    "    # Code starts here...\n",
    "    with out:\n",
    "        print(value)\n",
    "          \n",
    "f.observe(on_fetch, \"value\")\n",
    "\n",
    "display(f, out)"
   ]
  },
  {
   "cell_type": "markdown",
   "metadata": {},
   "source": [
    "# A convenient function (`create_on_fetch`) to reduce the boilerplate for `on_fetch` "
   ]
  },
  {
   "cell_type": "code",
   "execution_count": 2,
   "metadata": {},
   "outputs": [
    {
     "data": {
      "application/vnd.jupyter.widget-view+json": {
       "model_id": "8f468113dd614d6fad748a26bf776be7",
       "version_major": 2,
       "version_minor": 0
      },
      "text/plain": [
       "Fetch(url='http://echo.jsontest.com/key/value/one/two')"
      ]
     },
     "metadata": {},
     "output_type": "display_data"
    }
   ],
   "source": [
    "my_container = {}\n",
    "# Return function 'on_fetch'\n",
    "on_fetch = create_on_fetch(url='http://echo.jsontest.com/key/value/one/two',\n",
    "                           container=my_container)\n",
    "on_fetch()"
   ]
  },
  {
   "cell_type": "code",
   "execution_count": 3,
   "metadata": {},
   "outputs": [
    {
     "data": {
      "application/vnd.jupyter.widget-view+json": {
       "model_id": "da3f79e6a1624cd29b5a4b58c8ce9bcd",
       "version_major": 2,
       "version_minor": 0
      },
      "text/plain": [
       "Button(description='my button', style=ButtonStyle())"
      ]
     },
     "metadata": {},
     "output_type": "display_data"
    },
    {
     "data": {
      "application/vnd.jupyter.widget-view+json": {
       "model_id": "aeb560683cf5413c850e3973cd80a2f8",
       "version_major": 2,
       "version_minor": 0
      },
      "text/plain": [
       "Output()"
      ]
     },
     "metadata": {},
     "output_type": "display_data"
    }
   ],
   "source": [
    "btn = widgets.Button(description=\"Click me\")\n",
    "btn_out = widgets.Output()\n",
    "\n",
    "def show_container(_):\n",
    "    with btn_out:\n",
    "        print(my_container)\n",
    "        \n",
    "btn.on_click(show_container)\n",
    "\n",
    "display(btn, btn_out)"
   ]
  }
 ],
 "metadata": {
  "kernelspec": {
   "display_name": "ipyfetch-env",
   "language": "python",
   "name": "ipyfetch-env"
  },
  "language_info": {
   "codemirror_mode": {
    "name": "ipython",
    "version": 3
   },
   "file_extension": ".py",
   "mimetype": "text/x-python",
   "name": "python",
   "nbconvert_exporter": "python",
   "pygments_lexer": "ipython3",
   "version": "3.7.8"
  }
 },
 "nbformat": 4,
 "nbformat_minor": 4
}
